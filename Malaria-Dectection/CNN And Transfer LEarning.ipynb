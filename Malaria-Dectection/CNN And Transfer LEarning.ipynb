{
 "cells": [
  {
   "cell_type": "markdown",
   "metadata": {},
   "source": [
    "## Creating CNN Using Scratch And Transfer Learning"
   ]
  },
  {
   "cell_type": "markdown",
   "metadata": {},
   "source": [
    "Please download the dataset from the below url"
   ]
  },
  {
   "cell_type": "code",
   "execution_count": 1,
   "metadata": {},
   "outputs": [
    {
     "name": "stderr",
     "output_type": "stream",
     "text": [
      "Using TensorFlow backend.\n"
     ]
    }
   ],
   "source": [
    "# import the libraries as shown below\n",
    "\n",
    "from keras.layers import Input, Lambda, Dense, Flatten,Conv2D\n",
    "from keras.models import Model\n",
    "from keras.applications.vgg19 import VGG19\n",
    "from keras.applications.resnet50 import preprocess_input\n",
    "from keras.preprocessing import image\n",
    "from keras.preprocessing.image import ImageDataGenerator,load_img\n",
    "from keras.models import Sequential\n",
    "import numpy as np\n",
    "from glob import glob\n",
    "import matplotlib.pyplot as plt"
   ]
  },
  {
   "cell_type": "code",
   "execution_count": 10,
   "metadata": {},
   "outputs": [],
   "source": [
    "# re-size all the images to this\n",
    "IMAGE_SIZE = [224, 224]\n",
    "\n",
    "train_path = 'Dataset/Train'\n",
    "valid_path = 'Dataset/Test'\n"
   ]
  },
  {
   "cell_type": "code",
   "execution_count": 17,
   "metadata": {},
   "outputs": [],
   "source": [
    "# Import the Vgg 16 library as shown below and add preprocessing layer to the front of VGG\n",
    "# Here we will be using imagenet weights\n",
    "\n",
    "mobilnet = VGG19(input_shape=IMAGE_SIZE + [3], weights='imagenet', include_top=False)\n",
    "\n",
    "\n"
   ]
  },
  {
   "cell_type": "code",
   "execution_count": 18,
   "metadata": {},
   "outputs": [],
   "source": [
    "# don't train existing weights\n",
    "for layer in mobilnet.layers:\n",
    "    layer.trainable = False"
   ]
  },
  {
   "cell_type": "code",
   "execution_count": 19,
   "metadata": {},
   "outputs": [],
   "source": [
    "  # useful for getting number of output classes\n",
    "folders = glob('Dataset/Train/*')"
   ]
  },
  {
   "cell_type": "code",
   "execution_count": 20,
   "metadata": {},
   "outputs": [
    {
     "data": {
      "text/plain": [
       "['Dataset/Train\\\\Parasite', 'Dataset/Train\\\\Uninfected']"
      ]
     },
     "execution_count": 20,
     "metadata": {},
     "output_type": "execute_result"
    }
   ],
   "source": [
    "folders"
   ]
  },
  {
   "cell_type": "code",
   "execution_count": 21,
   "metadata": {},
   "outputs": [],
   "source": [
    "# our layers - you can add more if you want\n",
    "x = Flatten()(mobilnet.output)"
   ]
  },
  {
   "cell_type": "code",
   "execution_count": 22,
   "metadata": {},
   "outputs": [],
   "source": [
    "prediction = Dense(len(folders), activation='softmax')(x)\n",
    "\n",
    "# create a model object\n",
    "model = Model(inputs=mobilnet.input, outputs=prediction)"
   ]
  },
  {
   "cell_type": "code",
   "execution_count": 23,
   "metadata": {},
   "outputs": [
    {
     "name": "stdout",
     "output_type": "stream",
     "text": [
      "Model: \"model_3\"\n",
      "_________________________________________________________________\n",
      "Layer (type)                 Output Shape              Param #   \n",
      "=================================================================\n",
      "input_3 (InputLayer)         (None, 224, 224, 3)       0         \n",
      "_________________________________________________________________\n",
      "block1_conv1 (Conv2D)        (None, 224, 224, 64)      1792      \n",
      "_________________________________________________________________\n",
      "block1_conv2 (Conv2D)        (None, 224, 224, 64)      36928     \n",
      "_________________________________________________________________\n",
      "block1_pool (MaxPooling2D)   (None, 112, 112, 64)      0         \n",
      "_________________________________________________________________\n",
      "block2_conv1 (Conv2D)        (None, 112, 112, 128)     73856     \n",
      "_________________________________________________________________\n",
      "block2_conv2 (Conv2D)        (None, 112, 112, 128)     147584    \n",
      "_________________________________________________________________\n",
      "block2_pool (MaxPooling2D)   (None, 56, 56, 128)       0         \n",
      "_________________________________________________________________\n",
      "block3_conv1 (Conv2D)        (None, 56, 56, 256)       295168    \n",
      "_________________________________________________________________\n",
      "block3_conv2 (Conv2D)        (None, 56, 56, 256)       590080    \n",
      "_________________________________________________________________\n",
      "block3_conv3 (Conv2D)        (None, 56, 56, 256)       590080    \n",
      "_________________________________________________________________\n",
      "block3_conv4 (Conv2D)        (None, 56, 56, 256)       590080    \n",
      "_________________________________________________________________\n",
      "block3_pool (MaxPooling2D)   (None, 28, 28, 256)       0         \n",
      "_________________________________________________________________\n",
      "block4_conv1 (Conv2D)        (None, 28, 28, 512)       1180160   \n",
      "_________________________________________________________________\n",
      "block4_conv2 (Conv2D)        (None, 28, 28, 512)       2359808   \n",
      "_________________________________________________________________\n",
      "block4_conv3 (Conv2D)        (None, 28, 28, 512)       2359808   \n",
      "_________________________________________________________________\n",
      "block4_conv4 (Conv2D)        (None, 28, 28, 512)       2359808   \n",
      "_________________________________________________________________\n",
      "block4_pool (MaxPooling2D)   (None, 14, 14, 512)       0         \n",
      "_________________________________________________________________\n",
      "block5_conv1 (Conv2D)        (None, 14, 14, 512)       2359808   \n",
      "_________________________________________________________________\n",
      "block5_conv2 (Conv2D)        (None, 14, 14, 512)       2359808   \n",
      "_________________________________________________________________\n",
      "block5_conv3 (Conv2D)        (None, 14, 14, 512)       2359808   \n",
      "_________________________________________________________________\n",
      "block5_conv4 (Conv2D)        (None, 14, 14, 512)       2359808   \n",
      "_________________________________________________________________\n",
      "block5_pool (MaxPooling2D)   (None, 7, 7, 512)         0         \n",
      "_________________________________________________________________\n",
      "flatten_3 (Flatten)          (None, 25088)             0         \n",
      "_________________________________________________________________\n",
      "dense_3 (Dense)              (None, 2)                 50178     \n",
      "=================================================================\n",
      "Total params: 20,074,562\n",
      "Trainable params: 50,178\n",
      "Non-trainable params: 20,024,384\n",
      "_________________________________________________________________\n"
     ]
    }
   ],
   "source": [
    "\n",
    "# view the structure of the model\n",
    "model.summary()\n"
   ]
  },
  {
   "cell_type": "code",
   "execution_count": 24,
   "metadata": {},
   "outputs": [],
   "source": [
    "from keras.layers import MaxPooling2D"
   ]
  },
  {
   "cell_type": "code",
   "execution_count": 25,
   "metadata": {},
   "outputs": [
    {
     "name": "stdout",
     "output_type": "stream",
     "text": [
      "Model: \"sequential_1\"\n",
      "_________________________________________________________________\n",
      "Layer (type)                 Output Shape              Param #   \n",
      "=================================================================\n",
      "conv2d_1 (Conv2D)            (None, 224, 224, 16)      208       \n",
      "_________________________________________________________________\n",
      "max_pooling2d_1 (MaxPooling2 (None, 112, 112, 16)      0         \n",
      "_________________________________________________________________\n",
      "conv2d_2 (Conv2D)            (None, 112, 112, 32)      2080      \n",
      "_________________________________________________________________\n",
      "max_pooling2d_2 (MaxPooling2 (None, 56, 56, 32)        0         \n",
      "_________________________________________________________________\n",
      "conv2d_3 (Conv2D)            (None, 56, 56, 64)        8256      \n",
      "_________________________________________________________________\n",
      "max_pooling2d_3 (MaxPooling2 (None, 28, 28, 64)        0         \n",
      "_________________________________________________________________\n",
      "flatten_4 (Flatten)          (None, 50176)             0         \n",
      "_________________________________________________________________\n",
      "dense_4 (Dense)              (None, 500)               25088500  \n",
      "_________________________________________________________________\n",
      "dense_5 (Dense)              (None, 2)                 1002      \n",
      "=================================================================\n",
      "Total params: 25,100,046\n",
      "Trainable params: 25,100,046\n",
      "Non-trainable params: 0\n",
      "_________________________________________________________________\n"
     ]
    }
   ],
   "source": [
    "### Create Model from scratch using CNN\n",
    "model=Sequential()\n",
    "model.add(Conv2D(filters=16,kernel_size=2,padding=\"same\",activation=\"relu\",input_shape=(224,224,3)))\n",
    "model.add(MaxPooling2D(pool_size=2))\n",
    "model.add(Conv2D(filters=32,kernel_size=2,padding=\"same\",activation =\"relu\"))\n",
    "model.add(MaxPooling2D(pool_size=2))\n",
    "model.add(Conv2D(filters=64,kernel_size=2,padding=\"same\",activation=\"relu\"))\n",
    "model.add(MaxPooling2D(pool_size=2))\n",
    "model.add(Flatten())\n",
    "model.add(Dense(500,activation=\"relu\"))\n",
    "model.add(Dense(2,activation=\"softmax\"))\n",
    "model.summary()"
   ]
  },
  {
   "cell_type": "code",
   "execution_count": 26,
   "metadata": {},
   "outputs": [],
   "source": [
    "# tell the model what cost and optimization method to use\n",
    "model.compile(\n",
    "  loss='categorical_crossentropy',\n",
    "  optimizer='adam',\n",
    "  metrics=['accuracy']\n",
    ")\n"
   ]
  },
  {
   "cell_type": "code",
   "execution_count": 27,
   "metadata": {},
   "outputs": [],
   "source": [
    "# Use the Image Data Generator to import the images from the dataset\n",
    "from tensorflow.keras.preprocessing.image import ImageDataGenerator\n",
    "\n",
    "train_datagen = ImageDataGenerator(rescale = 1./255,\n",
    "                                   shear_range = 0.2,\n",
    "                                   zoom_range = 0.2,\n",
    "                                   horizontal_flip = True)\n",
    "\n",
    "test_datagen = ImageDataGenerator(rescale = 1./255)"
   ]
  },
  {
   "cell_type": "code",
   "execution_count": 28,
   "metadata": {},
   "outputs": [
    {
     "name": "stdout",
     "output_type": "stream",
     "text": [
      "Found 416 images belonging to 2 classes.\n"
     ]
    }
   ],
   "source": [
    "# Make sure you provide the same target size as initialied for the image size\n",
    "training_set = train_datagen.flow_from_directory('Dataset/Train',\n",
    "                                                 target_size = (224, 224),\n",
    "                                                 batch_size = 32,\n",
    "                                                 class_mode = 'categorical')"
   ]
  },
  {
   "cell_type": "code",
   "execution_count": 29,
   "metadata": {},
   "outputs": [
    {
     "data": {
      "text/plain": [
       "<keras_preprocessing.image.directory_iterator.DirectoryIterator at 0x1fcd8651cc8>"
      ]
     },
     "execution_count": 29,
     "metadata": {},
     "output_type": "execute_result"
    }
   ],
   "source": [
    "training_set"
   ]
  },
  {
   "cell_type": "code",
   "execution_count": 30,
   "metadata": {},
   "outputs": [
    {
     "name": "stdout",
     "output_type": "stream",
     "text": [
      "Found 134 images belonging to 2 classes.\n"
     ]
    }
   ],
   "source": [
    "test_set = test_datagen.flow_from_directory('Dataset/Test',\n",
    "                                            target_size = (224, 224),\n",
    "                                            batch_size = 32,\n",
    "                                            class_mode = 'categorical')"
   ]
  },
  {
   "cell_type": "code",
   "execution_count": 32,
   "metadata": {
    "scrolled": true
   },
   "outputs": [
    {
     "name": "stdout",
     "output_type": "stream",
     "text": [
      "WARNING:tensorflow:From F:\\Anacondaplus\\lib\\site-packages\\keras\\backend\\tensorflow_backend.py:422: The name tf.global_variables is deprecated. Please use tf.compat.v1.global_variables instead.\n",
      "\n",
      "Epoch 1/50\n",
      "13/13 [==============================] - 58s 4s/step - loss: 1.0522 - accuracy: 0.5000 - val_loss: 0.5365 - val_accuracy: 0.6791\n",
      "Epoch 2/50\n",
      "13/13 [==============================] - 21s 2s/step - loss: 0.7026 - accuracy: 0.5288 - val_loss: 0.6710 - val_accuracy: 0.6791\n",
      "Epoch 3/50\n",
      "13/13 [==============================] - 23s 2s/step - loss: 0.6694 - accuracy: 0.5337 - val_loss: 0.6068 - val_accuracy: 0.6791\n",
      "Epoch 4/50\n",
      "13/13 [==============================] - 22s 2s/step - loss: 0.6205 - accuracy: 0.6731 - val_loss: 0.7622 - val_accuracy: 0.3358\n",
      "Epoch 5/50\n",
      "13/13 [==============================] - 24s 2s/step - loss: 0.5503 - accuracy: 0.7091 - val_loss: 0.8261 - val_accuracy: 0.3507\n",
      "Epoch 6/50\n",
      "13/13 [==============================] - 22s 2s/step - loss: 0.4616 - accuracy: 0.7572 - val_loss: 0.7570 - val_accuracy: 0.3881\n",
      "Epoch 7/50\n",
      "13/13 [==============================] - 22s 2s/step - loss: 0.4302 - accuracy: 0.8005 - val_loss: 0.8734 - val_accuracy: 0.4552\n",
      "Epoch 8/50\n",
      "13/13 [==============================] - 25s 2s/step - loss: 0.3893 - accuracy: 0.8365 - val_loss: 0.5608 - val_accuracy: 0.5373\n",
      "Epoch 9/50\n",
      "13/13 [==============================] - 32s 2s/step - loss: 0.3509 - accuracy: 0.8389 - val_loss: 1.3592 - val_accuracy: 0.5299\n",
      "Epoch 10/50\n",
      "13/13 [==============================] - 33s 3s/step - loss: 0.3560 - accuracy: 0.8341 - val_loss: 0.5894 - val_accuracy: 0.6194\n",
      "Epoch 11/50\n",
      "13/13 [==============================] - 26s 2s/step - loss: 0.3436 - accuracy: 0.8317 - val_loss: 0.7707 - val_accuracy: 0.5970\n",
      "Epoch 12/50\n",
      "13/13 [==============================] - 35s 3s/step - loss: 0.3006 - accuracy: 0.8822 - val_loss: 0.4298 - val_accuracy: 0.8060\n",
      "Epoch 13/50\n",
      "13/13 [==============================] - 34s 3s/step - loss: 0.2415 - accuracy: 0.9062 - val_loss: 0.3659 - val_accuracy: 0.7537\n",
      "Epoch 14/50\n",
      "13/13 [==============================] - 36s 3s/step - loss: 0.2256 - accuracy: 0.9135 - val_loss: 0.5575 - val_accuracy: 0.8433\n",
      "Epoch 15/50\n",
      "13/13 [==============================] - 36s 3s/step - loss: 0.1744 - accuracy: 0.9495 - val_loss: 0.5291 - val_accuracy: 0.8433\n",
      "Epoch 16/50\n",
      "13/13 [==============================] - 27s 2s/step - loss: 0.1457 - accuracy: 0.9591 - val_loss: 0.6154 - val_accuracy: 0.7761\n",
      "Epoch 17/50\n",
      "13/13 [==============================] - 28s 2s/step - loss: 0.1185 - accuracy: 0.9615 - val_loss: 0.1614 - val_accuracy: 0.8284\n",
      "Epoch 18/50\n",
      "13/13 [==============================] - 26s 2s/step - loss: 0.1258 - accuracy: 0.9688 - val_loss: 0.3213 - val_accuracy: 0.8358\n",
      "Epoch 19/50\n",
      "13/13 [==============================] - 26s 2s/step - loss: 0.1933 - accuracy: 0.9231 - val_loss: 0.4843 - val_accuracy: 0.8134\n",
      "Epoch 20/50\n",
      "13/13 [==============================] - 26s 2s/step - loss: 0.1378 - accuracy: 0.9591 - val_loss: 0.4443 - val_accuracy: 0.8507\n",
      "Epoch 21/50\n",
      "13/13 [==============================] - 26s 2s/step - loss: 0.1390 - accuracy: 0.9495 - val_loss: 0.0831 - val_accuracy: 0.8881\n",
      "Epoch 22/50\n",
      "13/13 [==============================] - 27s 2s/step - loss: 0.1357 - accuracy: 0.9519 - val_loss: 0.4326 - val_accuracy: 0.8582\n",
      "Epoch 23/50\n",
      "13/13 [==============================] - 26s 2s/step - loss: 0.0802 - accuracy: 0.9784 - val_loss: 0.2315 - val_accuracy: 0.8881\n",
      "Epoch 24/50\n",
      "13/13 [==============================] - 25s 2s/step - loss: 0.0811 - accuracy: 0.9736 - val_loss: 0.5163 - val_accuracy: 0.8433\n",
      "Epoch 25/50\n",
      "13/13 [==============================] - 26s 2s/step - loss: 0.0903 - accuracy: 0.9712 - val_loss: 0.3184 - val_accuracy: 0.8731\n",
      "Epoch 26/50\n",
      "13/13 [==============================] - 32s 2s/step - loss: 0.0730 - accuracy: 0.9808 - val_loss: 0.3639 - val_accuracy: 0.9104\n",
      "Epoch 27/50\n",
      "13/13 [==============================] - 28s 2s/step - loss: 0.0941 - accuracy: 0.9688 - val_loss: 0.2604 - val_accuracy: 0.8582\n",
      "Epoch 28/50\n",
      "13/13 [==============================] - 25s 2s/step - loss: 0.0895 - accuracy: 0.9688 - val_loss: 0.0386 - val_accuracy: 0.8955\n",
      "Epoch 29/50\n",
      "13/13 [==============================] - 24s 2s/step - loss: 0.1082 - accuracy: 0.9760 - val_loss: 0.4631 - val_accuracy: 0.8209\n",
      "Epoch 30/50\n",
      "13/13 [==============================] - 26s 2s/step - loss: 0.1601 - accuracy: 0.9543 - val_loss: 0.4209 - val_accuracy: 0.8507\n",
      "Epoch 31/50\n",
      "13/13 [==============================] - 25s 2s/step - loss: 0.0900 - accuracy: 0.9784 - val_loss: 0.0402 - val_accuracy: 0.9179\n",
      "Epoch 32/50\n",
      "13/13 [==============================] - 25s 2s/step - loss: 0.0577 - accuracy: 0.9832 - val_loss: 0.2644 - val_accuracy: 0.9030\n",
      "Epoch 33/50\n",
      "13/13 [==============================] - 27s 2s/step - loss: 0.0829 - accuracy: 0.9832 - val_loss: 1.4454 - val_accuracy: 0.8284\n",
      "Epoch 34/50\n",
      "13/13 [==============================] - 28s 2s/step - loss: 0.1269 - accuracy: 0.9591 - val_loss: 0.0395 - val_accuracy: 0.8582\n",
      "Epoch 35/50\n",
      "13/13 [==============================] - 25s 2s/step - loss: 0.0726 - accuracy: 0.9784 - val_loss: 0.0257 - val_accuracy: 0.8955\n",
      "Epoch 36/50\n",
      "13/13 [==============================] - 24s 2s/step - loss: 0.0657 - accuracy: 0.9832 - val_loss: 0.3287 - val_accuracy: 0.9179\n",
      "Epoch 37/50\n",
      "13/13 [==============================] - 24s 2s/step - loss: 0.0427 - accuracy: 0.9904 - val_loss: 0.9571 - val_accuracy: 0.8881\n",
      "Epoch 38/50\n",
      "13/13 [==============================] - 29s 2s/step - loss: 0.0376 - accuracy: 0.9856 - val_loss: 0.0073 - val_accuracy: 0.9104\n",
      "Epoch 39/50\n",
      "13/13 [==============================] - 24s 2s/step - loss: 0.0363 - accuracy: 0.9904 - val_loss: 0.1835 - val_accuracy: 0.8507\n",
      "Epoch 40/50\n",
      "13/13 [==============================] - 23s 2s/step - loss: 0.0623 - accuracy: 0.9784 - val_loss: 0.3450 - val_accuracy: 0.8881\n",
      "Epoch 41/50\n",
      "13/13 [==============================] - 24s 2s/step - loss: 0.0704 - accuracy: 0.9760 - val_loss: 0.0382 - val_accuracy: 0.8507\n",
      "Epoch 42/50\n",
      "13/13 [==============================] - 29s 2s/step - loss: 0.1004 - accuracy: 0.9712 - val_loss: 0.3176 - val_accuracy: 0.8731\n",
      "Epoch 43/50\n",
      "13/13 [==============================] - 29s 2s/step - loss: 0.0559 - accuracy: 0.9904 - val_loss: 0.0174 - val_accuracy: 0.8955\n",
      "Epoch 44/50\n",
      "13/13 [==============================] - 29s 2s/step - loss: 0.0842 - accuracy: 0.9880 - val_loss: 0.8447 - val_accuracy: 0.7388\n",
      "Epoch 45/50\n",
      "13/13 [==============================] - 30s 2s/step - loss: 0.2653 - accuracy: 0.8942 - val_loss: 0.2201 - val_accuracy: 0.6418\n",
      "Epoch 46/50\n",
      "13/13 [==============================] - 27s 2s/step - loss: 0.2521 - accuracy: 0.8918 - val_loss: 0.5663 - val_accuracy: 0.7388\n",
      "Epoch 47/50\n",
      "13/13 [==============================] - 27s 2s/step - loss: 0.1922 - accuracy: 0.9327 - val_loss: 1.2741 - val_accuracy: 0.7463\n",
      "Epoch 48/50\n",
      "13/13 [==============================] - 28s 2s/step - loss: 0.1407 - accuracy: 0.9543 - val_loss: 0.0290 - val_accuracy: 0.8433\n",
      "Epoch 49/50\n",
      "13/13 [==============================] - 27s 2s/step - loss: 0.0851 - accuracy: 0.9688 - val_loss: 0.7494 - val_accuracy: 0.8657\n",
      "Epoch 50/50\n",
      "13/13 [==============================] - 26s 2s/step - loss: 0.0456 - accuracy: 0.9832 - val_loss: 0.4298 - val_accuracy: 0.8582\n"
     ]
    }
   ],
   "source": [
    "# fit the model\n",
    "# Run the cell. It will take some time to execute\n",
    "r = model.fit_generator(\n",
    "  training_set,\n",
    "  validation_data=test_set,\n",
    "  epochs=50,\n",
    "  steps_per_epoch=len(training_set),\n",
    "  validation_steps=len(test_set)\n",
    ")"
   ]
  },
  {
   "cell_type": "code",
   "execution_count": null,
   "metadata": {},
   "outputs": [],
   "source": []
  },
  {
   "cell_type": "code",
   "execution_count": 33,
   "metadata": {},
   "outputs": [
    {
     "data": {
      "image/png": "[encoded data removed]",
      "text/plain": [
       "<Figure size 432x288 with 1 Axes>"
      ]
     },
     "metadata": {
      "needs_background": "light"
     },
     "output_type": "display_data"
    },
    {
     "data": {
      "image/png": "[encoded data removed]",
      "text/plain": [
       "<Figure size 432x288 with 1 Axes>"
      ]
     },
     "metadata": {
      "needs_background": "light"
     },
     "output_type": "display_data"
    },
    {
     "data": {
      "text/plain": [
       "<Figure size 432x288 with 0 Axes>"
      ]
     },
     "metadata": {},
     "output_type": "display_data"
    }
   ],
   "source": [
    "# plot the loss\n",
    "plt.plot(r.history['loss'], label='train loss')\n",
    "plt.plot(r.history['val_loss'], label='val loss')\n",
    "plt.legend()\n",
    "plt.show()\n",
    "plt.savefig('LossVal_loss')\n",
    "\n",
    "# plot the accuracy\n",
    "plt.plot(r.history['accuracy'], label='train acc')\n",
    "plt.plot(r.history['val_accuracy'], label='val acc')\n",
    "plt.legend()\n",
    "plt.show()\n",
    "plt.savefig('AccVal_acc')"
   ]
  },
  {
   "cell_type": "code",
   "execution_count": 34,
   "metadata": {},
   "outputs": [],
   "source": [
    "# save it as a h5 file\n",
    "\n",
    "\n",
    "from tensorflow.keras.models import load_model\n",
    "\n",
    "model.save('model_vgg19.h5')"
   ]
  },
  {
   "cell_type": "code",
   "execution_count": null,
   "metadata": {},
   "outputs": [],
   "source": []
  },
  {
   "cell_type": "code",
   "execution_count": 35,
   "metadata": {},
   "outputs": [],
   "source": [
    "\n",
    "y_pred = model.predict(test_set)\n"
   ]
  },
  {
   "cell_type": "code",
   "execution_count": 36,
   "metadata": {},
   "outputs": [
    {
     "data": {
      "text/plain": [
       "array([[9.99988556e-01, 1.14787690e-05],\n",
       "       [8.28762725e-03, 9.91712332e-01],\n",
       "       [6.75144494e-01, 3.24855566e-01],\n",
       "       [1.00000000e+00, 9.06404671e-14],\n",
       "       [9.99701083e-01, 2.98937841e-04],\n",
       "       [1.00000000e+00, 8.56549942e-09],\n",
       "       [1.86155550e-02, 9.81384397e-01],\n",
       "       [1.00000000e+00, 2.43137759e-08],\n",
       "       [1.00000000e+00, 0.00000000e+00],\n",
       "       [1.00000000e+00, 5.29566289e-17],\n",
       "       [3.22074816e-03, 9.96779263e-01],\n",
       "       [1.00000000e+00, 6.12594531e-10],\n",
       "       [1.00000000e+00, 7.13819892e-10],\n",
       "       [1.00000000e+00, 1.14698162e-09],\n",
       "       [1.00000000e+00, 2.35912105e-20],\n",
       "       [1.00000000e+00, 3.37808099e-23],\n",
       "       [9.22951400e-02, 9.07704830e-01],\n",
       "       [9.69325677e-02, 9.03067470e-01],\n",
       "       [9.54223871e-01, 4.57760841e-02],\n",
       "       [9.99998450e-01, 1.49186997e-06],\n",
       "       [1.00000000e+00, 5.53455459e-09],\n",
       "       [3.37276980e-03, 9.96627212e-01],\n",
       "       [1.80084735e-01, 8.19915235e-01],\n",
       "       [2.59668007e-02, 9.74033237e-01],\n",
       "       [1.00000000e+00, 9.91706806e-09],\n",
       "       [1.00000000e+00, 3.04131725e-20],\n",
       "       [1.00000000e+00, 3.04820019e-23],\n",
       "       [9.99996662e-01, 3.33776552e-06],\n",
       "       [1.00000000e+00, 1.07862755e-11],\n",
       "       [1.00000000e+00, 1.37958828e-11],\n",
       "       [9.99908090e-01, 9.18726364e-05],\n",
       "       [1.00000000e+00, 2.43388868e-11],\n",
       "       [1.00000000e+00, 4.10954162e-14],\n",
       "       [1.00000000e+00, 7.11091201e-25],\n",
       "       [9.99625683e-01, 3.74308904e-04],\n",
       "       [1.00000000e+00, 1.08418806e-34],\n",
       "       [6.88429922e-02, 9.31156993e-01],\n",
       "       [1.00000000e+00, 5.89992768e-12],\n",
       "       [3.22584645e-03, 9.96774137e-01],\n",
       "       [3.55248265e-02, 9.64475214e-01],\n",
       "       [5.45958839e-02, 9.45404172e-01],\n",
       "       [9.99996662e-01, 3.29918771e-06],\n",
       "       [9.97008145e-01, 2.99192290e-03],\n",
       "       [3.19908857e-01, 6.80091143e-01],\n",
       "       [9.99999762e-01, 2.23958509e-07],\n",
       "       [3.63573642e-03, 9.96364295e-01],\n",
       "       [9.99999881e-01, 1.58102424e-07],\n",
       "       [6.53504673e-03, 9.93464887e-01],\n",
       "       [9.99994159e-01, 5.81045833e-06],\n",
       "       [9.99580801e-01, 4.19240474e-04],\n",
       "       [3.61480587e-03, 9.96385217e-01],\n",
       "       [5.64352214e-01, 4.35647786e-01],\n",
       "       [9.99697804e-01, 3.02271161e-04],\n",
       "       [2.62434967e-03, 9.97375607e-01],\n",
       "       [9.99988198e-01, 1.17456875e-05],\n",
       "       [1.00000000e+00, 9.47625985e-17],\n",
       "       [2.99911154e-03, 9.97000873e-01],\n",
       "       [2.38619410e-02, 9.76137996e-01],\n",
       "       [1.19470492e-01, 8.80529463e-01],\n",
       "       [1.00000000e+00, 1.25654175e-37],\n",
       "       [1.00000000e+00, 5.13169880e-08],\n",
       "       [1.88389998e-02, 9.81161058e-01],\n",
       "       [9.99998689e-01, 1.27715759e-06],\n",
       "       [9.99874830e-01, 1.25151564e-04],\n",
       "       [1.03255445e-02, 9.89674389e-01],\n",
       "       [2.80573242e-03, 9.97194290e-01],\n",
       "       [9.99934435e-01, 6.56070697e-05],\n",
       "       [9.99810278e-01, 1.89767350e-04],\n",
       "       [1.00000000e+00, 2.94320253e-15],\n",
       "       [6.85691927e-03, 9.93143082e-01],\n",
       "       [9.99978065e-01, 2.19714184e-05],\n",
       "       [1.00000000e+00, 1.83032052e-32],\n",
       "       [9.99997020e-01, 2.94910751e-06],\n",
       "       [2.94960171e-01, 7.05039799e-01],\n",
       "       [8.00904632e-03, 9.91990983e-01],\n",
       "       [1.00000000e+00, 3.08577252e-12],\n",
       "       [9.41162109e-02, 9.05883789e-01],\n",
       "       [9.88151968e-01, 1.18480558e-02],\n",
       "       [1.00000000e+00, 1.68503267e-09],\n",
       "       [1.44186523e-02, 9.85581338e-01],\n",
       "       [9.99986649e-01, 1.33579078e-05],\n",
       "       [2.47800373e-03, 9.97521937e-01],\n",
       "       [1.00000000e+00, 1.34705402e-08],\n",
       "       [1.00000000e+00, 3.60283120e-21],\n",
       "       [9.99996662e-01, 3.38014843e-06],\n",
       "       [9.99999762e-01, 2.36466590e-07],\n",
       "       [1.00000000e+00, 1.62431402e-13],\n",
       "       [5.67131825e-02, 9.43286777e-01],\n",
       "       [7.75258765e-02, 9.22474146e-01],\n",
       "       [1.00000000e+00, 1.35578661e-16],\n",
       "       [9.99998212e-01, 1.84653118e-06],\n",
       "       [2.66642451e-01, 7.33357549e-01],\n",
       "       [1.23116532e-02, 9.87688363e-01],\n",
       "       [1.00000000e+00, 2.52639791e-14],\n",
       "       [1.00000000e+00, 1.33625947e-24],\n",
       "       [1.00000000e+00, 1.71847025e-09],\n",
       "       [1.00000000e+00, 5.60908342e-09],\n",
       "       [1.00000000e+00, 3.20228912e-19],\n",
       "       [1.00000000e+00, 9.33592601e-18],\n",
       "       [1.02826990e-02, 9.89717245e-01],\n",
       "       [1.41098183e-02, 9.85890150e-01],\n",
       "       [1.00000000e+00, 8.90973964e-23],\n",
       "       [1.00000000e+00, 3.59776597e-12],\n",
       "       [5.82793308e-03, 9.94172037e-01],\n",
       "       [7.62897208e-02, 9.23710227e-01],\n",
       "       [1.00000000e+00, 1.12541783e-34],\n",
       "       [4.43088263e-03, 9.95569170e-01],\n",
       "       [1.00000000e+00, 1.04040500e-11],\n",
       "       [9.61587429e-01, 3.84125784e-02],\n",
       "       [1.00000000e+00, 3.91802217e-08],\n",
       "       [1.00000000e+00, 1.65888743e-08],\n",
       "       [2.17320537e-03, 9.97826755e-01],\n",
       "       [2.52754748e-01, 7.47245252e-01],\n",
       "       [9.99997139e-01, 2.88201750e-06],\n",
       "       [6.93328530e-02, 9.30667102e-01],\n",
       "       [8.81809771e-01, 1.18190199e-01],\n",
       "       [6.93158150e-01, 3.06841880e-01],\n",
       "       [3.87081737e-03, 9.96129155e-01],\n",
       "       [3.02711911e-02, 9.69728827e-01],\n",
       "       [4.05503325e-02, 9.59449708e-01],\n",
       "       [8.33575666e-01, 1.66424349e-01],\n",
       "       [1.00000000e+00, 4.75126916e-09],\n",
       "       [9.63198364e-01, 3.68016548e-02],\n",
       "       [9.99890447e-01, 1.09562898e-04],\n",
       "       [5.98805631e-03, 9.94011939e-01],\n",
       "       [7.63464794e-02, 9.23653483e-01],\n",
       "       [5.18420571e-03, 9.94815767e-01],\n",
       "       [1.00000000e+00, 1.19546940e-12],\n",
       "       [6.42045587e-02, 9.35795426e-01],\n",
       "       [6.12107851e-02, 9.38789189e-01],\n",
       "       [1.58514990e-03, 9.98414874e-01],\n",
       "       [2.59858766e-03, 9.97401476e-01],\n",
       "       [4.59148496e-01, 5.40851533e-01],\n",
       "       [1.00000000e+00, 6.38177320e-17]], dtype=float32)"
      ]
     },
     "execution_count": 36,
     "metadata": {},
     "output_type": "execute_result"
    }
   ],
   "source": [
    "y_pred"
   ]
  },
  {
   "cell_type": "code",
   "execution_count": 37,
   "metadata": {},
   "outputs": [],
   "source": [
    "import numpy as np\n",
    "y_pred = np.argmax(y_pred, axis=1)"
   ]
  },
  {
   "cell_type": "code",
   "execution_count": 38,
   "metadata": {},
   "outputs": [
    {
     "data": {
      "text/plain": [
       "array([0, 1, 0, 0, 0, 0, 1, 0, 0, 0, 1, 0, 0, 0, 0, 0, 1, 1, 0, 0, 0, 1,\n",
       "       1, 1, 0, 0, 0, 0, 0, 0, 0, 0, 0, 0, 0, 0, 1, 0, 1, 1, 1, 0, 0, 1,\n",
       "       0, 1, 0, 1, 0, 0, 1, 0, 0, 1, 0, 0, 1, 1, 1, 0, 0, 1, 0, 0, 1, 1,\n",
       "       0, 0, 0, 1, 0, 0, 0, 1, 1, 0, 1, 0, 0, 1, 0, 1, 0, 0, 0, 0, 0, 1,\n",
       "       1, 0, 0, 1, 1, 0, 0, 0, 0, 0, 0, 1, 1, 0, 0, 1, 1, 0, 1, 0, 0, 0,\n",
       "       0, 1, 1, 0, 1, 0, 0, 1, 1, 1, 0, 0, 0, 0, 1, 1, 1, 0, 1, 1, 1, 1,\n",
       "       1, 0], dtype=int64)"
      ]
     },
     "execution_count": 38,
     "metadata": {},
     "output_type": "execute_result"
    }
   ],
   "source": [
    "y_pred"
   ]
  },
  {
   "cell_type": "code",
   "execution_count": null,
   "metadata": {},
   "outputs": [],
   "source": []
  },
  {
   "cell_type": "code",
   "execution_count": 39,
   "metadata": {},
   "outputs": [],
   "source": [
    "from keras.models import load_model\n",
    "from keras.preprocessing import image"
   ]
  },
  {
   "cell_type": "code",
   "execution_count": 40,
   "metadata": {},
   "outputs": [],
   "source": [
    "model=load_model('model_vgg19.h5')"
   ]
  },
  {
   "cell_type": "code",
   "execution_count": null,
   "metadata": {},
   "outputs": [],
   "source": []
  },
  {
   "cell_type": "code",
   "execution_count": 44,
   "metadata": {},
   "outputs": [],
   "source": [
    "img=image.load_img('Dataset/Test/Uninfected/3.png',target_size=(224,224))\n",
    "\n"
   ]
  },
  {
   "cell_type": "code",
   "execution_count": 45,
   "metadata": {},
   "outputs": [
    {
     "data": {
      "text/plain": [
       "array([[[0., 0., 0.],\n",
       "        [0., 0., 0.],\n",
       "        [0., 0., 0.],\n",
       "        ...,\n",
       "        [0., 0., 0.],\n",
       "        [0., 0., 0.],\n",
       "        [0., 0., 0.]],\n",
       "\n",
       "       [[0., 0., 0.],\n",
       "        [0., 0., 0.],\n",
       "        [0., 0., 0.],\n",
       "        ...,\n",
       "        [0., 0., 0.],\n",
       "        [0., 0., 0.],\n",
       "        [0., 0., 0.]],\n",
       "\n",
       "       [[0., 0., 0.],\n",
       "        [0., 0., 0.],\n",
       "        [0., 0., 0.],\n",
       "        ...,\n",
       "        [0., 0., 0.],\n",
       "        [0., 0., 0.],\n",
       "        [0., 0., 0.]],\n",
       "\n",
       "       ...,\n",
       "\n",
       "       [[0., 0., 0.],\n",
       "        [0., 0., 0.],\n",
       "        [0., 0., 0.],\n",
       "        ...,\n",
       "        [0., 0., 0.],\n",
       "        [0., 0., 0.],\n",
       "        [0., 0., 0.]],\n",
       "\n",
       "       [[0., 0., 0.],\n",
       "        [0., 0., 0.],\n",
       "        [0., 0., 0.],\n",
       "        ...,\n",
       "        [0., 0., 0.],\n",
       "        [0., 0., 0.],\n",
       "        [0., 0., 0.]],\n",
       "\n",
       "       [[0., 0., 0.],\n",
       "        [0., 0., 0.],\n",
       "        [0., 0., 0.],\n",
       "        ...,\n",
       "        [0., 0., 0.],\n",
       "        [0., 0., 0.],\n",
       "        [0., 0., 0.]]], dtype=float32)"
      ]
     },
     "execution_count": 45,
     "metadata": {},
     "output_type": "execute_result"
    }
   ],
   "source": [
    "x=image.img_to_array(img)\n",
    "x"
   ]
  },
  {
   "cell_type": "code",
   "execution_count": 46,
   "metadata": {},
   "outputs": [
    {
     "data": {
      "text/plain": [
       "(224, 224, 3)"
      ]
     },
     "execution_count": 46,
     "metadata": {},
     "output_type": "execute_result"
    }
   ],
   "source": [
    "x.shape"
   ]
  },
  {
   "cell_type": "code",
   "execution_count": 47,
   "metadata": {},
   "outputs": [],
   "source": [
    "x=x/255"
   ]
  },
  {
   "cell_type": "code",
   "execution_count": 48,
   "metadata": {},
   "outputs": [
    {
     "data": {
      "text/plain": [
       "(1, 224, 224, 3)"
      ]
     },
     "execution_count": 48,
     "metadata": {},
     "output_type": "execute_result"
    }
   ],
   "source": [
    "x=np.expand_dims(x,axis=0)\n",
    "img_data=preprocess_input(x)\n",
    "img_data.shape"
   ]
  },
  {
   "cell_type": "code",
   "execution_count": 49,
   "metadata": {},
   "outputs": [
    {
     "data": {
      "text/plain": [
       "array([[1., 0.]], dtype=float32)"
      ]
     },
     "execution_count": 49,
     "metadata": {},
     "output_type": "execute_result"
    }
   ],
   "source": [
    "model.predict(img_data)"
   ]
  },
  {
   "cell_type": "code",
   "execution_count": 50,
   "metadata": {},
   "outputs": [],
   "source": [
    "a=np.argmax(model.predict(img_data), axis=1)"
   ]
  },
  {
   "cell_type": "code",
   "execution_count": 51,
   "metadata": {},
   "outputs": [
    {
     "name": "stdout",
     "output_type": "stream",
     "text": [
      "Infected\n"
     ]
    }
   ],
   "source": [
    "if(a==1):\n",
    "    print(\"Uninfected\")\n",
    "else:\n",
    "    print(\"Infected\")"
   ]
  },
  {
   "cell_type": "code",
   "execution_count": null,
   "metadata": {},
   "outputs": [],
   "source": []
  },
  {
   "cell_type": "code",
   "execution_count": null,
   "metadata": {},
   "outputs": [],
   "source": []
  }
 ],
 "metadata": {
  "kernelspec": {
   "display_name": "Python 3",
   "language": "python",
   "name": "python3"
  },
  "language_info": {
   "codemirror_mode": {
    "name": "ipython",
    "version": 3
   },
   "file_extension": ".py",
   "mimetype": "text/x-python",
   "name": "python",
   "nbconvert_exporter": "python",
   "pygments_lexer": "ipython3",
   "version": "3.7.6"
  }
 },
 "nbformat": 4,
 "nbformat_minor": 2
}
